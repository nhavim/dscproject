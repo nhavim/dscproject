{
 "cells": [
  {
   "cell_type": "markdown",
   "id": "37dc1db8",
   "metadata": {},
   "source": [
    "# Model_Training"
   ]
  },
  {
   "cell_type": "markdown",
   "id": "45521d5e",
   "metadata": {},
   "source": [
    "##### 1.1 Import Machining Libraries"
   ]
  },
  {
   "cell_type": "code",
   "execution_count": 1,
   "id": "329c6a56",
   "metadata": {},
   "outputs": [],
   "source": [
    "# Basic libraries\n",
    "import pandas as pd\n",
    "import numpy as np\n",
    "import seaborn as sns\n",
    "import matplotlib.pyplot as plt\n",
    "# Modeling\n",
    "from sklearn.metrics import mean_squared_error, r2_score, mean_absolute_error\n",
    "from sklearn.neighbors import KNeighborsRegressor\n",
    "from sklearn.tree import DecisionTreeRegressor\n",
    "from sklearn.ensemble import RandomForestRegressor, AdaBoostRegressor\n",
    "from sklearn.svm import SVR\n",
    "from sklearn.linear_model import LinearRegression, Ridge, Lasso\n",
    "from sklearn.model_selection import train_test_split\n",
    "from sklearn.preprocessing import StandardScaler\n",
    "from sklearn.pipeline import Pipeline\n",
    "# Importing models\n",
    "from sklearn.linear_model import LogisticRegression\n",
    "from catboost import CatBoostRegressor\n",
    "from xgboost import XGBRegressor\n",
    "import warnings\n",
    "from sklearn.preprocessing import OneHotEncoder, StandardScaler \n",
    "from sklearn.compose import ColumnTransformer\n",
    "from sklearn.pipeline import Pipeline"
   ]
  },
  {
   "cell_type": "markdown",
   "id": "f9878f6a",
   "metadata": {},
   "source": [
    "#### import data into csv"
   ]
  },
  {
   "cell_type": "code",
   "execution_count": 2,
   "id": "567f3a9d",
   "metadata": {},
   "outputs": [],
   "source": [
    "df = pd.read_csv('Data/studentsPerformance.csv')"
   ]
  },
  {
   "cell_type": "markdown",
   "id": "c039c7f6",
   "metadata": {},
   "source": [
    "## Preparing X and Y features"
   ]
  },
  {
   "cell_type": "code",
   "execution_count": 3,
   "id": "11bb68ee",
   "metadata": {},
   "outputs": [],
   "source": [
    "x = df.drop(columns=['math score'], axis=1)"
   ]
  },
  {
   "cell_type": "code",
   "execution_count": 4,
   "id": "e3971ab1",
   "metadata": {},
   "outputs": [
    {
     "data": {
      "text/html": [
       "<div>\n",
       "<style scoped>\n",
       "    .dataframe tbody tr th:only-of-type {\n",
       "        vertical-align: middle;\n",
       "    }\n",
       "\n",
       "    .dataframe tbody tr th {\n",
       "        vertical-align: top;\n",
       "    }\n",
       "\n",
       "    .dataframe thead th {\n",
       "        text-align: right;\n",
       "    }\n",
       "</style>\n",
       "<table border=\"1\" class=\"dataframe\">\n",
       "  <thead>\n",
       "    <tr style=\"text-align: right;\">\n",
       "      <th></th>\n",
       "      <th>gender</th>\n",
       "      <th>race/ethnicity</th>\n",
       "      <th>parental level of education</th>\n",
       "      <th>lunch</th>\n",
       "      <th>test preparation course</th>\n",
       "      <th>reading score</th>\n",
       "      <th>writing score</th>\n",
       "    </tr>\n",
       "  </thead>\n",
       "  <tbody>\n",
       "    <tr>\n",
       "      <th>0</th>\n",
       "      <td>female</td>\n",
       "      <td>group B</td>\n",
       "      <td>bachelor's degree</td>\n",
       "      <td>standard</td>\n",
       "      <td>none</td>\n",
       "      <td>72</td>\n",
       "      <td>74</td>\n",
       "    </tr>\n",
       "    <tr>\n",
       "      <th>1</th>\n",
       "      <td>female</td>\n",
       "      <td>group C</td>\n",
       "      <td>some college</td>\n",
       "      <td>standard</td>\n",
       "      <td>completed</td>\n",
       "      <td>90</td>\n",
       "      <td>88</td>\n",
       "    </tr>\n",
       "    <tr>\n",
       "      <th>2</th>\n",
       "      <td>female</td>\n",
       "      <td>group B</td>\n",
       "      <td>master's degree</td>\n",
       "      <td>standard</td>\n",
       "      <td>none</td>\n",
       "      <td>95</td>\n",
       "      <td>93</td>\n",
       "    </tr>\n",
       "    <tr>\n",
       "      <th>3</th>\n",
       "      <td>male</td>\n",
       "      <td>group A</td>\n",
       "      <td>associate's degree</td>\n",
       "      <td>free/reduced</td>\n",
       "      <td>none</td>\n",
       "      <td>57</td>\n",
       "      <td>44</td>\n",
       "    </tr>\n",
       "    <tr>\n",
       "      <th>4</th>\n",
       "      <td>male</td>\n",
       "      <td>group C</td>\n",
       "      <td>some college</td>\n",
       "      <td>standard</td>\n",
       "      <td>none</td>\n",
       "      <td>78</td>\n",
       "      <td>75</td>\n",
       "    </tr>\n",
       "  </tbody>\n",
       "</table>\n",
       "</div>"
      ],
      "text/plain": [
       "   gender race/ethnicity parental level of education         lunch  \\\n",
       "0  female        group B           bachelor's degree      standard   \n",
       "1  female        group C                some college      standard   \n",
       "2  female        group B             master's degree      standard   \n",
       "3    male        group A          associate's degree  free/reduced   \n",
       "4    male        group C                some college      standard   \n",
       "\n",
       "  test preparation course  reading score  writing score  \n",
       "0                    none             72             74  \n",
       "1               completed             90             88  \n",
       "2                    none             95             93  \n",
       "3                    none             57             44  \n",
       "4                    none             78             75  "
      ]
     },
     "execution_count": 4,
     "metadata": {},
     "output_type": "execute_result"
    }
   ],
   "source": [
    "x.head()"
   ]
  },
  {
   "cell_type": "code",
   "execution_count": 5,
   "id": "ff9b9749",
   "metadata": {},
   "outputs": [
    {
     "name": "stdout",
     "output_type": "stream",
     "text": [
      "(1000, 7)\n"
     ]
    }
   ],
   "source": [
    "print(x.shape)"
   ]
  },
  {
   "cell_type": "code",
   "execution_count": 6,
   "id": "4a0041ed",
   "metadata": {},
   "outputs": [],
   "source": [
    "y = df['math score']"
   ]
  },
  {
   "cell_type": "code",
   "execution_count": 7,
   "id": "5d45edb4",
   "metadata": {},
   "outputs": [
    {
     "data": {
      "text/plain": [
       "0      72\n",
       "1      69\n",
       "2      90\n",
       "3      47\n",
       "4      76\n",
       "       ..\n",
       "995    88\n",
       "996    62\n",
       "997    59\n",
       "998    68\n",
       "999    77\n",
       "Name: math score, Length: 1000, dtype: int64"
      ]
     },
     "execution_count": 7,
     "metadata": {},
     "output_type": "execute_result"
    }
   ],
   "source": [
    "y"
   ]
  },
  {
   "cell_type": "code",
   "execution_count": 8,
   "id": "11cd9aa5",
   "metadata": {},
   "outputs": [],
   "source": [
    "# Creating column transformer with 3 transformers\n",
    "num_features = x.select_dtypes(exclude=['object']).columns\n",
    "cat_features = x.select_dtypes(include=['object']).columns\n",
    "\n",
    "numeric_transformer = StandardScaler()\n",
    "ohe_transformer = OneHotEncoder()\n",
    "\n",
    "preprocessor = ColumnTransformer(\n",
    "    [\n",
    "        ('OneHotEncoder', ohe_transformer, cat_features),\n",
    "        ('StandardScaler', numeric_transformer, num_features)\n",
    "    ]\n",
    ")"
   ]
  },
  {
   "cell_type": "code",
   "execution_count": 9,
   "id": "5fd40a95",
   "metadata": {},
   "outputs": [
    {
     "data": {
      "text/plain": [
       "(1000, 19)"
      ]
     },
     "execution_count": 9,
     "metadata": {},
     "output_type": "execute_result"
    }
   ],
   "source": [
    "X = preprocessor.fit_transform(x)\n",
    "\n",
    "X.shape"
   ]
  },
  {
   "cell_type": "code",
   "execution_count": 10,
   "id": "3e4543af",
   "metadata": {},
   "outputs": [
    {
     "data": {
      "text/plain": [
       "array([[ 1.        ,  0.        ,  0.        , ...,  1.        ,\n",
       "         0.19399858,  0.39149181],\n",
       "       [ 1.        ,  0.        ,  0.        , ...,  0.        ,\n",
       "         1.42747598,  1.31326868],\n",
       "       [ 1.        ,  0.        ,  0.        , ...,  1.        ,\n",
       "         1.77010859,  1.64247471],\n",
       "       ...,\n",
       "       [ 1.        ,  0.        ,  0.        , ...,  0.        ,\n",
       "         0.12547206, -0.20107904],\n",
       "       [ 1.        ,  0.        ,  0.        , ...,  0.        ,\n",
       "         0.60515772,  0.58901542],\n",
       "       [ 1.        ,  0.        ,  0.        , ...,  1.        ,\n",
       "         1.15336989,  1.18158627]])"
      ]
     },
     "execution_count": 10,
     "metadata": {},
     "output_type": "execute_result"
    }
   ],
   "source": [
    "X"
   ]
  },
  {
   "cell_type": "code",
   "execution_count": 11,
   "id": "33c9a092",
   "metadata": {},
   "outputs": [
    {
     "name": "stdout",
     "output_type": "stream",
     "text": [
      "(800, 19) (800,)\n",
      "(200, 19) (200,)\n"
     ]
    }
   ],
   "source": [
    "# Splitting the dataset into training and testing sets\n",
    "X_train, X_test, y_train, y_test = train_test_split(X, y, test_size=0.2, random_state=42)\n",
    "print(X_train.shape, y_train.shape)\n",
    "print(X_test.shape, y_test.shape)"
   ]
  },
  {
   "cell_type": "markdown",
   "id": "dde293e3",
   "metadata": {},
   "source": [
    "#### Create Evaluate Function to give all metrics after training models"
   ]
  },
  {
   "cell_type": "code",
   "execution_count": 12,
   "id": "783f0ac6",
   "metadata": {},
   "outputs": [],
   "source": [
    "# create models to see which one is the best\n",
    "models = {\n",
    "    'K-NeighborsRegressor': KNeighborsRegressor(),\n",
    "    'DecisionTreeRegressor': DecisionTreeRegressor(),\n",
    "    'RandomForestRegressor': RandomForestRegressor(),\n",
    "    'AdaBoostRegressor': AdaBoostRegressor(),\n",
    "    'LinearRegression': LinearRegression(),\n",
    "    'Ridge': Ridge(),\n",
    "    'Lasso': Lasso(),\n",
    "    'XGBRegressor': XGBRegressor(),\n",
    "    'CatBoostRegressor': CatBoostRegressor(verbose=0),\n",
    "}\n"
   ]
  },
  {
   "cell_type": "code",
   "execution_count": 13,
   "id": "8a9b979b",
   "metadata": {},
   "outputs": [],
   "source": [
    "model_list = []\n",
    "r2_train_list = []\n",
    "r2_test_list = []\n"
   ]
  },
  {
   "cell_type": "code",
   "execution_count": 14,
   "id": "a3d841e0",
   "metadata": {},
   "outputs": [],
   "source": [
    "# Define the evaluate_model function\n",
    "def evaluate_model(true, predicted):\n",
    "    mae = mean_absolute_error(true, predicted)\n",
    "    mse = mean_squared_error(true, predicted)\n",
    "    rmse = np.sqrt(mean_squared_error(true, predicted))\n",
    "    r2 = r2_score(true, predicted)\n",
    "    return mae, rmse, r2  # Corrected to return RMSE"
   ]
  },
  {
   "cell_type": "code",
   "execution_count": 15,
   "id": "b7445802",
   "metadata": {},
   "outputs": [
    {
     "name": "stdout",
     "output_type": "stream",
     "text": [
      "--- Evaluating K-NeighborsRegressor ---\n",
      "Shape of y_train: (800,)\n",
      "Shape of y_train_pred: (800,)\n",
      "Shape of y_test: (200,)\n",
      "Shape of y_test_pred: (200,)\n",
      "Data type of y_train: int64\n",
      "Data type of y_train_pred: float64\n",
      "Data type of y_test: int64\n",
      "Data type of y_test_pred: float64\n",
      "K-NeighborsRegressor\n",
      "Model Performance for Train Data\n",
      "- Root Mean Squared Error: 5.7088\n",
      "- Mean Absolute Error: 4.5177\n",
      "- R2 Score: 0.8554\n",
      "---------------------------------------\n",
      "Model Performance for Test Data\n",
      "- Root Mean Squared Error: 7.2494\n",
      "- Mean Absolute Error: 5.6090\n",
      "- R2 Score: 0.7840\n",
      "===================================\n",
      "\n",
      "\n",
      "--- Evaluating DecisionTreeRegressor ---\n",
      "Shape of y_train: (800,)\n",
      "Shape of y_train_pred: (800,)\n",
      "Shape of y_test: (200,)\n",
      "Shape of y_test_pred: (200,)\n",
      "Data type of y_train: int64\n",
      "Data type of y_train_pred: float64\n",
      "Data type of y_test: int64\n",
      "Data type of y_test_pred: float64\n",
      "DecisionTreeRegressor\n",
      "Model Performance for Train Data\n",
      "- Root Mean Squared Error: 0.2795\n",
      "- Mean Absolute Error: 0.0187\n",
      "- R2 Score: 0.9997\n",
      "---------------------------------------\n",
      "Model Performance for Test Data\n",
      "- Root Mean Squared Error: 7.5186\n",
      "- Mean Absolute Error: 5.9300\n",
      "- R2 Score: 0.7677\n",
      "===================================\n",
      "\n",
      "\n",
      "--- Evaluating RandomForestRegressor ---\n",
      "Shape of y_train: (800,)\n",
      "Shape of y_train_pred: (800,)\n",
      "Shape of y_test: (200,)\n",
      "Shape of y_test_pred: (200,)\n",
      "Data type of y_train: int64\n",
      "Data type of y_train_pred: float64\n",
      "Data type of y_test: int64\n",
      "Data type of y_test_pred: float64\n",
      "RandomForestRegressor\n",
      "Model Performance for Train Data\n",
      "- Root Mean Squared Error: 2.3302\n",
      "- Mean Absolute Error: 1.8504\n",
      "- R2 Score: 0.9759\n",
      "---------------------------------------\n",
      "Model Performance for Test Data\n",
      "- Root Mean Squared Error: 6.0022\n",
      "- Mean Absolute Error: 4.6878\n",
      "- R2 Score: 0.8519\n",
      "===================================\n",
      "\n",
      "\n",
      "--- Evaluating AdaBoostRegressor ---\n",
      "Shape of y_train: (800,)\n",
      "Shape of y_train_pred: (800,)\n",
      "Shape of y_test: (200,)\n",
      "Shape of y_test_pred: (200,)\n",
      "Data type of y_train: int64\n",
      "Data type of y_train_pred: float64\n",
      "Data type of y_test: int64\n",
      "Data type of y_test_pred: float64\n",
      "AdaBoostRegressor\n",
      "Model Performance for Train Data\n",
      "- Root Mean Squared Error: 5.7978\n",
      "- Mean Absolute Error: 4.7512\n",
      "- R2 Score: 0.8509\n",
      "---------------------------------------\n",
      "Model Performance for Test Data\n",
      "- Root Mean Squared Error: 6.0338\n",
      "- Mean Absolute Error: 4.7097\n",
      "- R2 Score: 0.8504\n",
      "===================================\n",
      "\n",
      "\n",
      "--- Evaluating LinearRegression ---\n",
      "Shape of y_train: (800,)\n",
      "Shape of y_train_pred: (800,)\n",
      "Shape of y_test: (200,)\n",
      "Shape of y_test_pred: (200,)\n",
      "Data type of y_train: int64\n",
      "Data type of y_train_pred: float64\n",
      "Data type of y_test: int64\n",
      "Data type of y_test_pred: float64\n",
      "LinearRegression\n",
      "Model Performance for Train Data\n",
      "- Root Mean Squared Error: 5.3231\n",
      "- Mean Absolute Error: 4.2667\n",
      "- R2 Score: 0.8743\n",
      "---------------------------------------\n",
      "Model Performance for Test Data\n",
      "- Root Mean Squared Error: 5.3940\n",
      "- Mean Absolute Error: 4.2148\n",
      "- R2 Score: 0.8804\n",
      "===================================\n",
      "\n",
      "\n",
      "--- Evaluating Ridge ---\n",
      "Shape of y_train: (800,)\n",
      "Shape of y_train_pred: (800,)\n",
      "Shape of y_test: (200,)\n",
      "Shape of y_test_pred: (200,)\n",
      "Data type of y_train: int64\n",
      "Data type of y_train_pred: float64\n",
      "Data type of y_test: int64\n",
      "Data type of y_test_pred: float64\n",
      "Ridge\n",
      "Model Performance for Train Data\n",
      "- Root Mean Squared Error: 5.3233\n",
      "- Mean Absolute Error: 4.2650\n",
      "- R2 Score: 0.8743\n",
      "---------------------------------------\n",
      "Model Performance for Test Data\n",
      "- Root Mean Squared Error: 5.3904\n",
      "- Mean Absolute Error: 4.2111\n",
      "- R2 Score: 0.8806\n",
      "===================================\n",
      "\n",
      "\n",
      "--- Evaluating Lasso ---\n",
      "Shape of y_train: (800,)\n",
      "Shape of y_train_pred: (800,)\n",
      "Shape of y_test: (200,)\n",
      "Shape of y_test_pred: (200,)\n",
      "Data type of y_train: int64\n",
      "Data type of y_train_pred: float64\n",
      "Data type of y_test: int64\n",
      "Data type of y_test_pred: float64\n",
      "Lasso\n",
      "Model Performance for Train Data\n",
      "- Root Mean Squared Error: 6.5938\n",
      "- Mean Absolute Error: 5.2063\n",
      "- R2 Score: 0.8071\n",
      "---------------------------------------\n",
      "Model Performance for Test Data\n",
      "- Root Mean Squared Error: 6.5197\n",
      "- Mean Absolute Error: 5.1579\n",
      "- R2 Score: 0.8253\n",
      "===================================\n",
      "\n",
      "\n",
      "--- Evaluating XGBRegressor ---\n",
      "Shape of y_train: (800,)\n",
      "Shape of y_train_pred: (800,)\n",
      "Shape of y_test: (200,)\n",
      "Shape of y_test_pred: (200,)\n",
      "Data type of y_train: int64\n",
      "Data type of y_train_pred: float32\n",
      "Data type of y_test: int64\n",
      "Data type of y_test_pred: float32\n",
      "XGBRegressor\n",
      "Model Performance for Train Data\n",
      "- Root Mean Squared Error: 1.0073\n",
      "- Mean Absolute Error: 0.6875\n",
      "- R2 Score: 0.9955\n",
      "---------------------------------------\n",
      "Model Performance for Test Data\n",
      "- Root Mean Squared Error: 6.4733\n",
      "- Mean Absolute Error: 5.0577\n",
      "- R2 Score: 0.8278\n",
      "===================================\n",
      "\n",
      "\n",
      "--- Evaluating CatBoostRegressor ---\n",
      "Shape of y_train: (800,)\n",
      "Shape of y_train_pred: (800,)\n",
      "Shape of y_test: (200,)\n",
      "Shape of y_test_pred: (200,)\n",
      "Data type of y_train: int64\n",
      "Data type of y_train_pred: float64\n",
      "Data type of y_test: int64\n",
      "Data type of y_test_pred: float64\n",
      "CatBoostRegressor\n",
      "Model Performance for Train Data\n",
      "- Root Mean Squared Error: 3.0427\n",
      "- Mean Absolute Error: 2.4054\n",
      "- R2 Score: 0.9589\n",
      "---------------------------------------\n",
      "Model Performance for Test Data\n",
      "- Root Mean Squared Error: 6.0086\n",
      "- Mean Absolute Error: 4.6125\n",
      "- R2 Score: 0.8516\n",
      "===================================\n",
      "\n",
      "\n"
     ]
    }
   ],
   "source": [
    "\n",
    "# Loop through the models and evaluate them\n",
    "for model_name, model in models.items():\n",
    "    # Train model\n",
    "    model.fit(X_train, y_train)\n",
    "\n",
    "    # Make Predictions\n",
    "    y_train_pred = model.predict(X_train)\n",
    "    y_test_pred = model.predict(X_test)\n",
    "\n",
    "    # --- Debugging Checks ---\n",
    "    print(f\"--- Evaluating {model_name} ---\")\n",
    "    print(\"Shape of y_train:\", y_train.shape)\n",
    "    print(\"Shape of y_train_pred:\", y_train_pred.shape)\n",
    "    print(\"Shape of y_test:\", y_test.shape)\n",
    "    print(\"Shape of y_test_pred:\", y_test_pred.shape)\n",
    "\n",
    "    print(\"Data type of y_train:\", y_train.dtype)\n",
    "    print(\"Data type of y_train_pred:\", y_train_pred.dtype)\n",
    "    print(\"Data type of y_test:\", y_test.dtype)\n",
    "    print(\"Data type of y_test_pred:\", y_test_pred.dtype)\n",
    "    # --- End of Debugging Checks ---\n",
    "\n",
    "    # Evaluate the model\n",
    "    model_train_mae, model_train_rmse, model_train_r2 = evaluate_model(y_train, y_train_pred)\n",
    "    model_test_mae, model_test_rmse, model_test_r2 = evaluate_model(y_test, y_test_pred)\n",
    "\n",
    "    # Print the evaluation metrics\n",
    "    print(model_name)\n",
    "    model_list.append(model_name)\n",
    "\n",
    "    print(\"Model Performance for Train Data\")\n",
    "    print(\"- Root Mean Squared Error: {:.4f}\".format(model_train_rmse))\n",
    "    print(\"- Mean Absolute Error: {:.4f}\".format(model_train_mae))\n",
    "    print(\"- R2 Score: {:.4f}\".format(model_train_r2))\n",
    "    r2_train_list.append(model_train_r2)\n",
    "\n",
    "    print(\"---------------------------------------\")\n",
    "\n",
    "    print(\"Model Performance for Test Data\")\n",
    "    print(\"- Root Mean Squared Error: {:.4f}\".format(model_test_rmse))\n",
    "    print(\"- Mean Absolute Error: {:.4f}\".format(model_test_mae))\n",
    "    print(\"- R2 Score: {:.4f}\".format(model_test_r2))\n",
    "    r2_test_list.append(model_test_r2)\n",
    "\n",
    "    print(\"=\" * 35)\n",
    "    print(\"\\n\")"
   ]
  },
  {
   "cell_type": "code",
   "execution_count": null,
   "id": "cad1abdb",
   "metadata": {},
   "outputs": [],
   "source": []
  }
 ],
 "metadata": {
  "kernelspec": {
   "display_name": "base",
   "language": "python",
   "name": "python3"
  },
  "language_info": {
   "codemirror_mode": {
    "name": "ipython",
    "version": 3
   },
   "file_extension": ".py",
   "mimetype": "text/x-python",
   "name": "python",
   "nbconvert_exporter": "python",
   "pygments_lexer": "ipython3",
   "version": "3.11.7"
  }
 },
 "nbformat": 4,
 "nbformat_minor": 5
}
